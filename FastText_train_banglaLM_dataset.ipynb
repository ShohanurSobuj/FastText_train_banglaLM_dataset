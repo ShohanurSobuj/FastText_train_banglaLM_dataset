{
 "cells": [
  {
   "cell_type": "markdown",
   "id": "6ee48381",
   "metadata": {},
   "source": [
    "# FastText Training"
   ]
  },
  {
   "cell_type": "code",
   "execution_count": 1,
   "id": "bebe508b",
   "metadata": {},
   "outputs": [
    {
     "name": "stdout",
     "output_type": "stream",
     "text": [
      "Collecting gensim==4.0.1\n",
      "  Downloading gensim-4.0.1-cp37-cp37m-manylinux1_x86_64.whl (23.9 MB)\n",
      "\u001b[K     |████████████████████████████████| 23.9 MB 796 kB/s eta 0:00:01     |█████████████████████▌          | 16.0 MB 755 kB/s eta 0:00:11     |█████████████████████▌          | 16.1 MB 755 kB/s eta 0:00:11     |██████████████████████████▋     | 19.9 MB 406 kB/s eta 0:00:10     |████████████████████████████▋   | 21.3 MB 658 kB/s eta 0:00:04     |█████████████████████████████▏  | 21.8 MB 853 kB/s eta 0:00:03\n",
      "\u001b[?25hRequirement already satisfied: scipy>=0.18.1 in /home/shohanursobuj/miniconda3/envs/my_env/lib/python3.7/site-packages (from gensim==4.0.1) (1.6.2)\n",
      "Requirement already satisfied: numpy>=1.11.3 in /home/shohanursobuj/miniconda3/envs/my_env/lib/python3.7/site-packages (from gensim==4.0.1) (1.20.2)\n",
      "Collecting smart-open>=1.8.1\n",
      "  Downloading smart_open-5.1.0-py3-none-any.whl (57 kB)\n",
      "\u001b[K     |████████████████████████████████| 57 kB 1.2 MB/s eta 0:00:01\n",
      "\u001b[?25hInstalling collected packages: smart-open, gensim\n",
      "Successfully installed gensim-4.0.1 smart-open-5.1.0\n",
      "Note: you may need to restart the kernel to use updated packages.\n"
     ]
    }
   ],
   "source": [
    "#installing library\n",
    "!pip install gensim==4.0.1"
   ]
  },
  {
   "cell_type": "code",
   "execution_count": 2,
   "id": "0a2428e6",
   "metadata": {},
   "outputs": [
    {
     "name": "stderr",
     "output_type": "stream",
     "text": [
      "/home/shohanursobuj/miniconda3/envs/my_env/lib/python3.7/site-packages/gensim/similarities/__init__.py:15: UserWarning: The gensim.similarities.levenshtein submodule is disabled, because the optional Levenshtein package <https://pypi.org/project/python-Levenshtein/> is unavailable. Install Levenhstein (e.g. `pip install python-Levenshtein`) to suppress this warning.\n",
      "  warnings.warn(msg)\n"
     ]
    }
   ],
   "source": [
    "#importing library\n",
    "from gensim.models.fasttext import FastText\n",
    "from gensim.test.utils import datapath\n",
    "\n",
    "import logging\n",
    "logging.basicConfig(format='%(asctime)s : %(levelname)s : %(message)s', level=logging.INFO)"
   ]
  },
  {
   "cell_type": "code",
   "execution_count": null,
   "id": "aa762132",
   "metadata": {},
   "outputs": [],
   "source": [
    "from pprint import pprint as print\n",
    "from gensim.models.fasttext import FastText\n",
    "from gensim.test.utils import datapath\n",
    "\n",
    "# Set file names for train and test data\n",
    "corpus_file = datapath('banglaLM_process_v2.txt')\n",
    "\n",
    "model = FastText(vector_size=300)\n",
    "\n",
    "# build the vocabulary\n",
    "model.build_vocab(corpus_file=corpus_file)\n",
    "\n",
    "# train the model\n",
    "model.train(\n",
    "    corpus_file=corpus_file, epochs=15,\n",
    "    total_examples=model.corpus_count, total_words=model.corpus_total_words,\n",
    ")\n",
    "print(model)"
   ]
  },
  {
   "cell_type": "code",
   "execution_count": null,
   "id": "a5ab415f",
   "metadata": {},
   "outputs": [],
   "source": [
    "wv = model.wv"
   ]
  },
  {
   "cell_type": "code",
   "execution_count": null,
   "id": "93219a9c",
   "metadata": {},
   "outputs": [],
   "source": [
    "wv.most_similar(\"ভালোবাসা\")"
   ]
  },
  {
   "cell_type": "code",
   "execution_count": null,
   "id": "7bcf8d23",
   "metadata": {},
   "outputs": [],
   "source": [
    "model.save(\"banglaFastText\")"
   ]
  },
  {
   "cell_type": "markdown",
   "id": "289fafe1",
   "metadata": {},
   "source": [
    "### ALL DONE"
   ]
  }
 ],
 "metadata": {
  "kernelspec": {
   "display_name": "Python 3",
   "language": "python",
   "name": "python3"
  },
  "language_info": {
   "codemirror_mode": {
    "name": "ipython",
    "version": 3
   },
   "file_extension": ".py",
   "mimetype": "text/x-python",
   "name": "python",
   "nbconvert_exporter": "python",
   "pygments_lexer": "ipython3",
   "version": "3.7.10"
  }
 },
 "nbformat": 4,
 "nbformat_minor": 5
}
